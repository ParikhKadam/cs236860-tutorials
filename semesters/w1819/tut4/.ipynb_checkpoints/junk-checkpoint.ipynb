{
 "cells": [
  {
   "cell_type": "code",
   "execution_count": 1,
   "metadata": {},
   "outputs": [
    {
     "data": {
      "text/plain": [
       "<Figure size 640x480 with 1 Axes>"
      ]
     },
     "metadata": {},
     "output_type": "display_data"
    },
    {
     "name": "stderr",
     "output_type": "stream",
     "text": [
      "/anaconda2/lib/python2.7/site-packages/numpy/core/numeric.py:501: ComplexWarning: Casting complex values to real discards the imaginary part\n",
      "  return array(a, dtype, copy=False, order=order)\n"
     ]
    },
    {
     "data": {
      "text/plain": [
       "<Figure size 640x480 with 1 Axes>"
      ]
     },
     "metadata": {},
     "output_type": "display_data"
    },
    {
     "name": "stdout",
     "output_type": "stream",
     "text": [
      "('signal size ', 20)\n",
      "('filter size  ', 100)\n",
      "(2, 60)\n"
     ]
    },
    {
     "data": {
      "text/plain": [
       "<Figure size 640x480 with 1 Axes>"
      ]
     },
     "metadata": {},
     "output_type": "display_data"
    },
    {
     "data": {
      "text/plain": [
       "<Figure size 640x480 with 1 Axes>"
      ]
     },
     "metadata": {},
     "output_type": "display_data"
    },
    {
     "name": "stdout",
     "output_type": "stream",
     "text": [
      "60\n"
     ]
    },
    {
     "data": {
      "text/plain": [
       "<Figure size 640x480 with 2 Axes>"
      ]
     },
     "metadata": {},
     "output_type": "display_data"
    }
   ],
   "source": [
    "## import numpy as np\n",
    "import math as m\n",
    "from fractions import gcd\n",
    "import matplotlib.pyplot as plt\n",
    "import scipy.signal as sig\n",
    "from scipy.fftpack import fft, ifft, fftshift\n",
    "import numpy as np\n",
    "pi=np.pi\n",
    "\n",
    "\n",
    "def polyphase_core(x, m, f):\n",
    "    # x = input data\n",
    "    # m = decimation rate\n",
    "    # f = filter\n",
    "    # Hack job - append zeros to match decimation rate\n",
    "    print(\"signal size \",len(x))\n",
    "    #print(m)\n",
    "    print(\"filter size  \",len(f))\n",
    "    if len(x) % m != 0:\n",
    "        x = np.append(x, np.zeros((m - len(x) % m,)))\n",
    "    if len(x) % m != 0:\n",
    "        f = np.append(f, np.zeros((m - f.shape[0] % m,)))\n",
    "    polyphase = p = np.zeros((m, (len(x) + f.shape[0]) / m), dtype=x[0].dtype)\n",
    "    print(p.shape)\n",
    "    p[0, :-1] = np.convolve(x[::m], f[::m])\n",
    "    plt.subplots()\n",
    "    plt.plot(p[0])\n",
    "    plt.show()\n",
    "    # Invert the x values when applying filters\n",
    "    for i in range(1, m):\n",
    "        p[i, 1:] = np.convolve(x[m - i::m], f[i::m])\n",
    "        plt.subplots()\n",
    "        plt.plot(p[i])\n",
    "        plt.show()\n",
    "    return p\n",
    "\n",
    "\n",
    "def polyphase_single_filter(x, m, f):\n",
    "    return np.sum(polyphase_core(x, m, f), axis=0)\n",
    "\n",
    "\n",
    "def polyphase_lowpass(arr, downsample=2, n_taps=50, filter_pad=1.1):\n",
    "    filt = sig.firwin(downsample * n_taps, 1 / (downsample * filter_pad))\n",
    "    plt.subplots()\n",
    "    plt.plot(filt)\n",
    "    plt.show()\n",
    "    plt.subplots()\n",
    "    plt.plot(fftshift(fft(filt)))\n",
    "    plt.show()\n",
    "    filtered = polyphase_single_filter(arr, downsample, filt)\n",
    "    return filtered\n",
    "\n",
    "#test signals\n",
    "# fs=800 #sampling frequency\n",
    "# f1=100 #signal frequency\n",
    "# f2=150 #signal frequency\n",
    "# Ts=1.0/fs # sampling interval\n",
    "# t=np.arange(0,1,Ts) # time vector\n",
    "# inp=[((2*np.sin(2*pi*f1*t)/pi*t)  + 2*(np.sin(2*pi*f2*t)/pi*t) )for t in t]\n",
    "# out=polyphase_lowpass(inp,3)   \n",
    "\n",
    "x = np.linspace(0, 10, 20, endpoint=False)\n",
    "y = np.cos(-x**2/6.0)\n",
    "taps = 50\n",
    "\n",
    "xnew = np.linspace(0, 10, 10, endpoint=False)\n",
    "out = polyphase_lowpass(y,2,taps)\n",
    "print(len(out))\n",
    "\n",
    "#****************************************************************************************#\n",
    "\n",
    "plt.subplot(211)\n",
    "plt.plot(y)\n",
    "plt.title('Original Signal Snippet')\n",
    "plt.xlabel('Discrete-Time Instances')\n",
    "plt.ylabel('Amplitude')\n",
    "\n",
    "plt.subplot(212)\n",
    "plt.plot(out[taps/2:-taps/2])\n",
    "plt.title('Downsampled Signal Snippet')\n",
    "plt.xlabel('Discrete-Time Instances')\n",
    "plt.ylabel('Amplitude')\n",
    "\n",
    "plt.tight_layout()\n",
    "plt.show()"
   ]
  },
  {
   "cell_type": "code",
   "execution_count": null,
   "metadata": {},
   "outputs": [],
   "source": []
  }
 ],
 "metadata": {
  "kernelspec": {
   "display_name": "Python 2",
   "language": "python",
   "name": "python2"
  },
  "language_info": {
   "codemirror_mode": {
    "name": "ipython",
    "version": 2
   },
   "file_extension": ".py",
   "mimetype": "text/x-python",
   "name": "python",
   "nbconvert_exporter": "python",
   "pygments_lexer": "ipython2",
   "version": "2.7.15"
  }
 },
 "nbformat": 4,
 "nbformat_minor": 2
}
